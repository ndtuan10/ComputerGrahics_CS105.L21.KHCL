{
 "cells": [
  {
   "cell_type": "code",
   "execution_count": 1,
   "id": "48eed8ff-aa0a-472d-8622-c2ab779291a6",
   "metadata": {},
   "outputs": [],
   "source": [
    "import cv2"
   ]
  },
  {
   "cell_type": "code",
   "execution_count": 2,
   "id": "f7c68e43-3df5-413c-a161-a28f50906cca",
   "metadata": {},
   "outputs": [],
   "source": [
    "# Load the cascade\n",
    "cascadePath = 'cascades/haarcascade_frontalface_default.xml'\n",
    "face_cascade = cv2.CascadeClassifier(cascadePath)"
   ]
  },
  {
   "cell_type": "code",
   "execution_count": 3,
   "id": "19d01a78-fbe9-4f88-a54c-dc684ea4a485",
   "metadata": {},
   "outputs": [],
   "source": [
    "# Read the input image\n",
    "img = cv2.imread(\"image/001.jpg\")"
   ]
  },
  {
   "cell_type": "code",
   "execution_count": 4,
   "id": "1efaf08f-dc9a-4c7a-abea-c308e4c1bb5f",
   "metadata": {},
   "outputs": [
    {
     "name": "stdout",
     "output_type": "stream",
     "text": [
      "Resized Dimensions :  (936, 1404, 3)\n"
     ]
    }
   ],
   "source": [
    "# resize image\n",
    "# note: use \"001.jpg\" (scale_percent = 25); \"004.jpg\"(scale_percent = 30); \"002.jpg\" (scale_percent = 40)\n",
    "scale_percent = 25 # percent of original size\n",
    "width = int(img.shape[1] * scale_percent / 100)\n",
    "height = int(img.shape[0] * scale_percent / 100)\n",
    "dim = (width, height)\n",
    "resized = cv2.resize(img, dim, interpolation = cv2.INTER_AREA)\n",
    "\n",
    "print('Resized Dimensions : ',resized.shape)"
   ]
  },
  {
   "cell_type": "code",
   "execution_count": 5,
   "id": "1a77cb3c-7055-430d-9a03-4aa4b6c1f1e9",
   "metadata": {},
   "outputs": [],
   "source": [
    "# Convert into grayscale\n",
    "gray = cv2.cvtColor(resized, cv2.COLOR_BGR2GRAY)"
   ]
  },
  {
   "cell_type": "code",
   "execution_count": 6,
   "id": "8815a56b-fd2e-46f5-9c1d-6fdf1f0b7ace",
   "metadata": {},
   "outputs": [],
   "source": [
    "# Detect faces\n",
    "faces = face_cascade.detectMultiScale(gray, 1.1, 4)"
   ]
  },
  {
   "cell_type": "code",
   "execution_count": 7,
   "id": "6ba776d3-f5df-43e0-be6d-40350c6a0874",
   "metadata": {},
   "outputs": [
    {
     "data": {
      "text/plain": [
       "-1"
      ]
     },
     "execution_count": 7,
     "metadata": {},
     "output_type": "execute_result"
    }
   ],
   "source": [
    "# Draw rectangle around the faces\n",
    "for (x, y, w, h) in faces:\n",
    "    cv2.rectangle(resized, (x, y), (x+w, y+h), (0, 0, 255), 2)\n",
    "# Display the output\n",
    "cv2.imshow('img', resized)\n",
    "cv2.waitKey()"
   ]
  },
  {
   "cell_type": "code",
   "execution_count": 8,
   "id": "702e4bdc-1e62-4291-a6d2-55b847c82e88",
   "metadata": {},
   "outputs": [
    {
     "data": {
      "text/plain": [
       "True"
      ]
     },
     "execution_count": 8,
     "metadata": {},
     "output_type": "execute_result"
    }
   ],
   "source": [
    "# Saving the image\n",
    "cv2.imwrite('C:/Users/ACER/Desktop/001-detection.jpg', resized) "
   ]
  },
  {
   "cell_type": "code",
   "execution_count": 9,
   "id": "9eaa27f3-090b-48b6-802b-f992faa9cf63",
   "metadata": {},
   "outputs": [],
   "source": [
    "# To use a video file as input \n",
    "cap = cv2.VideoCapture('video/Korea_Namsan.mp4')"
   ]
  },
  {
   "cell_type": "code",
   "execution_count": null,
   "id": "0c09dddc-96f8-4a61-9633-6170cb504042",
   "metadata": {},
   "outputs": [],
   "source": [
    "while True:\n",
    "    # Read the frame\n",
    "    _, img = cap.read()\n",
    "    # Convert to grayscale\n",
    "    gray = cv2.cvtColor(img, cv2.COLOR_BGR2GRAY)\n",
    "    # Detect the faces\n",
    "    faces = face_cascade.detectMultiScale(gray, 1.1, 4)\n",
    "    # Draw the rectangle around each face\n",
    "    for (x, y, w, h) in faces:\n",
    "        cv2.rectangle(img, (x, y), (x+w, y+h), (255, 0, 0), 2)\n",
    "    # Display\n",
    "    cv2.imshow('img', img)\n",
    "    # Stop if escape key is pressed\n",
    "    k = cv2.waitKey(30) & 0xff\n",
    "    if k==27:\n",
    "        break\n",
    "# Release the VideoCapture object\n",
    "cap.release()"
   ]
  },
  {
   "cell_type": "code",
   "execution_count": null,
   "id": "5a2410dd-fb88-4f5c-9c04-9021a3365399",
   "metadata": {},
   "outputs": [],
   "source": []
  }
 ],
 "metadata": {
  "kernelspec": {
   "display_name": "Python 3",
   "language": "python",
   "name": "python3"
  },
  "language_info": {
   "codemirror_mode": {
    "name": "ipython",
    "version": 3
   },
   "file_extension": ".py",
   "mimetype": "text/x-python",
   "name": "python",
   "nbconvert_exporter": "python",
   "pygments_lexer": "ipython3",
   "version": "3.9.0"
  }
 },
 "nbformat": 4,
 "nbformat_minor": 5
}
